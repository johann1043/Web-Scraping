{
 "cells": [
  {
   "cell_type": "code",
   "execution_count": 150,
   "id": "319e1e8b-f694-4b97-a988-14b3438e1304",
   "metadata": {},
   "outputs": [],
   "source": [
    "from bs4 import BeautifulSoup\n",
    "import requests\n",
    "import pandas as pd\n",
    "import numpy as np"
   ]
  },
  {
   "cell_type": "code",
   "execution_count": 151,
   "id": "ccaa3ffd-8316-497f-8952-d4ee7b9ae39a",
   "metadata": {},
   "outputs": [],
   "source": [
    "url = \"https://www.billboard.com/charts/hot-100/\""
   ]
  },
  {
   "cell_type": "code",
   "execution_count": 152,
   "id": "8fb3444e-f5d5-4cff-88da-1aa84ad9ed92",
   "metadata": {},
   "outputs": [],
   "source": [
    "response = requests.get(url)"
   ]
  },
  {
   "cell_type": "code",
   "execution_count": 153,
   "id": "1f6577a7-8441-4502-8847-0c19b806668d",
   "metadata": {},
   "outputs": [
    {
     "data": {
      "text/plain": [
       "200"
      ]
     },
     "execution_count": 153,
     "metadata": {},
     "output_type": "execute_result"
    }
   ],
   "source": [
    "response.status_code # 200 status code means OK!"
   ]
  },
  {
   "cell_type": "code",
   "execution_count": 154,
   "id": "2182c5b7-ffe5-43c2-9f7d-1eb208a9cecc",
   "metadata": {},
   "outputs": [],
   "source": [
    "soup = BeautifulSoup(response.content, \"html.parser\")"
   ]
  },
  {
   "cell_type": "code",
   "execution_count": 155,
   "id": "b9ac385a-1b8f-445b-a29e-329af7c75444",
   "metadata": {},
   "outputs": [],
   "source": [
    "titles = []\n",
    "artists = []\n",
    "\n",
    "for title in soup.select('li.o-chart-results-list__item h3.c-title'):\n",
    "    titles.append(title.get_text().strip().lower())\n",
    "\n",
    "for artist in soup.select('li.o-chart-results-list__item span.c-label.a-no-trucate'):\n",
    "    artists.append(artist.get_text().strip())"
   ]
  },
  {
   "cell_type": "code",
   "execution_count": 156,
   "id": "e9129d81-f780-4db7-a904-e4760cc6af8d",
   "metadata": {},
   "outputs": [],
   "source": [
    "df = pd.DataFrame({\n",
    "    'Title': titles,\n",
    "    'Author': artists\n",
    "})"
   ]
  },
  {
   "cell_type": "code",
   "execution_count": 157,
   "id": "709ee380-5446-45a6-9fbd-5f06095974ba",
   "metadata": {
    "scrolled": true
   },
   "outputs": [
    {
     "data": {
      "text/html": [
       "<div>\n",
       "<style scoped>\n",
       "    .dataframe tbody tr th:only-of-type {\n",
       "        vertical-align: middle;\n",
       "    }\n",
       "\n",
       "    .dataframe tbody tr th {\n",
       "        vertical-align: top;\n",
       "    }\n",
       "\n",
       "    .dataframe thead th {\n",
       "        text-align: right;\n",
       "    }\n",
       "</style>\n",
       "<table border=\"1\" class=\"dataframe\">\n",
       "  <thead>\n",
       "    <tr style=\"text-align: right;\">\n",
       "      <th></th>\n",
       "      <th>Title</th>\n",
       "      <th>Author</th>\n",
       "    </tr>\n",
       "  </thead>\n",
       "  <tbody>\n",
       "    <tr>\n",
       "      <th>0</th>\n",
       "      <td>lovin on me</td>\n",
       "      <td>Jack Harlow</td>\n",
       "    </tr>\n",
       "    <tr>\n",
       "      <th>1</th>\n",
       "      <td>lose control</td>\n",
       "      <td>Teddy Swims</td>\n",
       "    </tr>\n",
       "    <tr>\n",
       "      <th>2</th>\n",
       "      <td>beautiful things</td>\n",
       "      <td>Benson Boone</td>\n",
       "    </tr>\n",
       "    <tr>\n",
       "      <th>3</th>\n",
       "      <td>cruel summer</td>\n",
       "      <td>Taylor Swift</td>\n",
       "    </tr>\n",
       "    <tr>\n",
       "      <th>4</th>\n",
       "      <td>snooze</td>\n",
       "      <td>SZA</td>\n",
       "    </tr>\n",
       "    <tr>\n",
       "      <th>...</th>\n",
       "      <td>...</td>\n",
       "      <td>...</td>\n",
       "    </tr>\n",
       "    <tr>\n",
       "      <th>95</th>\n",
       "      <td>worth it</td>\n",
       "      <td>Offset &amp; Don Toliver</td>\n",
       "    </tr>\n",
       "    <tr>\n",
       "      <th>96</th>\n",
       "      <td>northern attitude</td>\n",
       "      <td>Noah Kahan With Hozier</td>\n",
       "    </tr>\n",
       "    <tr>\n",
       "      <th>97</th>\n",
       "      <td>scared to start</td>\n",
       "      <td>Michael Marcagi</td>\n",
       "    </tr>\n",
       "    <tr>\n",
       "      <th>98</th>\n",
       "      <td>first love</td>\n",
       "      <td>Oscar Ortiz X Edgardo Nunez</td>\n",
       "    </tr>\n",
       "    <tr>\n",
       "      <th>99</th>\n",
       "      <td>where it ends</td>\n",
       "      <td>Bailey Zimmerman</td>\n",
       "    </tr>\n",
       "  </tbody>\n",
       "</table>\n",
       "<p>100 rows × 2 columns</p>\n",
       "</div>"
      ],
      "text/plain": [
       "                Title                       Author\n",
       "0         lovin on me                  Jack Harlow\n",
       "1        lose control                  Teddy Swims\n",
       "2    beautiful things                 Benson Boone\n",
       "3        cruel summer                 Taylor Swift\n",
       "4              snooze                          SZA\n",
       "..                ...                          ...\n",
       "95           worth it         Offset & Don Toliver\n",
       "96  northern attitude       Noah Kahan With Hozier\n",
       "97    scared to start              Michael Marcagi\n",
       "98         first love  Oscar Ortiz X Edgardo Nunez\n",
       "99      where it ends             Bailey Zimmerman\n",
       "\n",
       "[100 rows x 2 columns]"
      ]
     },
     "execution_count": 157,
     "metadata": {},
     "output_type": "execute_result"
    }
   ],
   "source": [
    "df"
   ]
  },
  {
   "cell_type": "code",
   "execution_count": 159,
   "id": "5a10b340-f38e-42ee-8b80-3903b9049b02",
   "metadata": {},
   "outputs": [],
   "source": [
    "def search_for_song(song):\n",
    "    song = song.lower()\n",
    "    if (df['Title'].str.contains(song)).any():\n",
    "        random_index = np.random.choice(df.index)\n",
    "        print(f\"Hey, here is another great song: {df.loc[random_index, 'Title'].title()}\")\n",
    "    else:\n",
    "        title=False\n",
    "        start(title)\n",
    "    "
   ]
  },
  {
   "cell_type": "code",
   "execution_count": 160,
   "id": "5c482c3b-6def-410c-8ee4-65a5cc70ab4c",
   "metadata": {},
   "outputs": [],
   "source": [
    "def start(title):\n",
    "    if title == True:\n",
    "        song = input('Please input your favorite Song')\n",
    "        search_for_song(song)\n",
    "    else:\n",
    "        song = input('Please try again your Song title is not in the top 100')\n",
    "        search_for_song(song)"
   ]
  },
  {
   "cell_type": "code",
   "execution_count": 161,
   "id": "1d4e0dbf-96ee-49d6-bad3-62c9a82a9377",
   "metadata": {},
   "outputs": [
    {
     "name": "stdin",
     "output_type": "stream",
     "text": [
      "Please input your favorite Song yes\n"
     ]
    },
    {
     "name": "stdout",
     "output_type": "stream",
     "text": [
      "Hey, here is another great song: Lil Boo Thang\n"
     ]
    }
   ],
   "source": [
    "start(title=True)"
   ]
  },
  {
   "cell_type": "code",
   "execution_count": null,
   "id": "b2d8a6d4-10fd-42af-91e4-32e458f06b5b",
   "metadata": {},
   "outputs": [],
   "source": []
  }
 ],
 "metadata": {
  "kernelspec": {
   "display_name": "Python 3 (ipykernel)",
   "language": "python",
   "name": "python3"
  },
  "language_info": {
   "codemirror_mode": {
    "name": "ipython",
    "version": 3
   },
   "file_extension": ".py",
   "mimetype": "text/x-python",
   "name": "python",
   "nbconvert_exporter": "python",
   "pygments_lexer": "ipython3",
   "version": "3.11.5"
  }
 },
 "nbformat": 4,
 "nbformat_minor": 5
}
